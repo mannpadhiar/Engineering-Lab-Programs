{
 "cells": [
  {
   "cell_type": "markdown",
   "metadata": {},
   "source": [
    "\n",
    "<a href='https://www.darshan.ac.in/'> <img src='https://www.darshan.ac.in/Content/media/DU_Logo.svg' width=\"250\" height=\"300\"/></a>\n",
    "<pre>\n",
    "<center><b><h1>Python Programming - 2301CS404</b></center>\n",
    "<center><b><h1>Lab - 2</b></center>    \n",
    "<pre>"
   ]
  },
  {
   "cell_type": "markdown",
   "metadata": {},
   "source": [
    "# if..else.."
   ]
  },
  {
   "cell_type": "markdown",
   "metadata": {},
   "source": [
    "### 01) WAP to check whether the given number is positive or negative."
   ]
  },
  {
   "cell_type": "code",
   "execution_count": 1,
   "metadata": {},
   "outputs": [
    {
     "name": "stdin",
     "output_type": "stream",
     "text": [
      "enter your number :  4\n"
     ]
    },
    {
     "name": "stdout",
     "output_type": "stream",
     "text": [
      "number is positive\n"
     ]
    }
   ],
   "source": [
    "num = int(input('enter your number : '))\n",
    "\n",
    "if num>=0:\n",
    "    print('number is positive')\n",
    "else :\n",
    "    print('number is negative')"
   ]
  },
  {
   "cell_type": "markdown",
   "metadata": {},
   "source": [
    "### 02) WAP to check whether the given number is odd or even."
   ]
  },
  {
   "cell_type": "code",
   "execution_count": null,
   "metadata": {},
   "outputs": [],
   "source": [
    "num = int(input('enter your number : '))\n",
    "\n",
    "if num%2 == 0:\n",
    "    print('number is odd')\n",
    "else :\n",
    "    print('number is even')"
   ]
  },
  {
   "cell_type": "markdown",
   "metadata": {},
   "source": [
    "### 03) WAP to find out largest number from given two numbers using simple if and ternary operator."
   ]
  },
  {
   "cell_type": "code",
   "execution_count": 11,
   "metadata": {},
   "outputs": [
    {
     "name": "stdin",
     "output_type": "stream",
     "text": [
      "enter your number 1 :  4\n",
      "enter your number 2 :  5\n"
     ]
    },
    {
     "name": "stdout",
     "output_type": "stream",
     "text": [
      "num2 is largest\n"
     ]
    },
    {
     "data": {
      "text/plain": [
       "'num2 is largest'"
      ]
     },
     "execution_count": 11,
     "metadata": {},
     "output_type": "execute_result"
    }
   ],
   "source": [
    "num1 = int(input('enter your number 1 : '))\n",
    "num2 = int(input('enter your number 2 : '))\n",
    "\n",
    "\n",
    "if num1 > num2:\n",
    "    print('num1 is largest')\n",
    "else :\n",
    "    print('num2 is largest')\n",
    "\n",
    "print('num1 is largest') if (num1>num2) else ('num2 is largest')"
   ]
  },
  {
   "cell_type": "markdown",
   "metadata": {},
   "source": [
    "### 04) WAP to find out largest number from given three numbers."
   ]
  },
  {
   "cell_type": "code",
   "execution_count": 15,
   "metadata": {},
   "outputs": [
    {
     "name": "stdin",
     "output_type": "stream",
     "text": [
      "enter your number 1 :  2\n",
      "enter your number 2 :  5\n",
      "enter your number 3 :  3\n"
     ]
    },
    {
     "name": "stdout",
     "output_type": "stream",
     "text": [
      "num2 is largest\n"
     ]
    }
   ],
   "source": [
    "num1 = int(input('enter your number 1 : '))\n",
    "num2 = int(input('enter your number 2 : '))\n",
    "num3 = int(input('enter your number 3 : '))\n",
    "\n",
    "if num1 > num2:\n",
    "    print('num1 is largest') if (num1>num3) else ('num3 is largest')\n",
    "else:\n",
    "    print('num2 is largest') if (num2>num3) else ('num3 is largest')"
   ]
  },
  {
   "cell_type": "markdown",
   "metadata": {},
   "source": [
    "### 05) WAP to check whether the given year is leap year or not.\n",
    "[If a year can be divisible by 4 but not divisible by 100 then it is leap year but if it is divisible by 400 then it is leap year]"
   ]
  },
  {
   "cell_type": "code",
   "execution_count": 33,
   "metadata": {},
   "outputs": [
    {
     "name": "stdin",
     "output_type": "stream",
     "text": [
      "enter your year :  2025\n"
     ]
    },
    {
     "name": "stdout",
     "output_type": "stream",
     "text": [
      "number is not a leap year\n"
     ]
    }
   ],
   "source": [
    "year = int(input('enter your year : '))\n",
    "\n",
    "if((year%4 == 0 and year %100 != 0) or year %400 == 0):\n",
    "    print('number is leap year')\n",
    "else:\n",
    "    print('number is not a leap year')"
   ]
  },
  {
   "cell_type": "markdown",
   "metadata": {},
   "source": [
    "### 06) WAP in python to display the name of the day according to the number given by the user."
   ]
  },
  {
   "cell_type": "code",
   "execution_count": 38,
   "metadata": {},
   "outputs": [
    {
     "name": "stdin",
     "output_type": "stream",
     "text": [
      "enetr your number :  4\n"
     ]
    },
    {
     "name": "stdout",
     "output_type": "stream",
     "text": [
      "wednesday\n"
     ]
    }
   ],
   "source": [
    "num = int(input('enetr your number : '))\n",
    "\n",
    "if num == 1:\n",
    "    print('sunday')\n",
    "elif num == 2:\n",
    "    print('monday')\n",
    "elif num == 3:\n",
    "    print('tuesday')\n",
    "elif num == 4:\n",
    "    print('wednesday')\n",
    "elif num == 5:\n",
    "    print('thrusday')\n",
    "elif num == 6:\n",
    "    print('friday')\n",
    "elif num == 7:\n",
    "    print('seturday')"
   ]
  },
  {
   "cell_type": "markdown",
   "metadata": {},
   "source": [
    "### 07) WAP to implement simple calculator which performs (add,sub,mul,div) of two no. based on user input."
   ]
  },
  {
   "cell_type": "code",
   "execution_count": 43,
   "metadata": {},
   "outputs": [
    {
     "name": "stdin",
     "output_type": "stream",
     "text": [
      "enetr your number one :  3\n",
      "enetr your number two :  4\n",
      "what you have to perform(+,-,*,/) : +\n"
     ]
    },
    {
     "name": "stdout",
     "output_type": "stream",
     "text": [
      "addition is :7\n"
     ]
    }
   ],
   "source": [
    "a = int(input('enetr your number one : '))\n",
    "b = int(input('enetr your number two : '))\n",
    "op =input('what you have to perform(+,-,*,/) :')\n",
    "if op == '+':\n",
    "    print(f'addition is :{a+b}')\n",
    "elif op == '-':\n",
    "    print(f'substraction is : {(a-b)}')\n",
    "elif op == '/':\n",
    "    print(f'divistion is : {a/b}')\n",
    "elif op == '*':\n",
    "    print(f'multiplication is : {a*b}')"
   ]
  },
  {
   "cell_type": "markdown",
   "metadata": {},
   "source": [
    "### 08) WAP to read marks of five subjects. Calculate percentage and print class accordingly. \n",
    "Fail below 35 </br>\n",
    "Pass Class between 35 to 45 </br>\n",
    "Second Class</br>\n",
    "between 45 to 60</br>\n",
    "First Class between 60 to 70</br> \n",
    "Distinction if more than 70"
   ]
  },
  {
   "cell_type": "code",
   "execution_count": 49,
   "metadata": {},
   "outputs": [
    {
     "name": "stdin",
     "output_type": "stream",
     "text": [
      "enter your number 1 :  50\n",
      "enter your number 2 :  50\n",
      "enter your number 3 :  50\n",
      "enter your number 4 :  50\n",
      "enter your number 5 :  50\n"
     ]
    },
    {
     "name": "stdout",
     "output_type": "stream",
     "text": [
      "50.0\n",
      "Second class\n"
     ]
    }
   ],
   "source": [
    "num1 = int(input('enter your number 1 : '))\n",
    "num2 = int(input('enter your number 2 : '))\n",
    "num3 = int(input('enter your number 3 : '))\n",
    "num4 = int(input('enter your number 4 : '))\n",
    "num5 = int(input('enter your number 5 : '))\n",
    "\n",
    "per = (num1+num2+num3+num4+num3)/5\n",
    "print(per)\n",
    "\n",
    "if per > 70:\n",
    "    print('Distinction')\n",
    "elif per > 60:\n",
    "    print('First class')\n",
    "elif per > 45:\n",
    "    print('Second class')\n",
    "elif per > 35:\n",
    "    print('Pass Class')\n",
    "else :\n",
    "    print('fail')"
   ]
  },
  {
   "cell_type": "markdown",
   "metadata": {},
   "source": [
    "### 09) Three sides of a triangle are entered through the keyboard, WAP to check whether the triangle is isosceles, equilateral, scalene or right-angled triangle."
   ]
  },
  {
   "cell_type": "code",
   "execution_count": 57,
   "metadata": {},
   "outputs": [
    {
     "name": "stdin",
     "output_type": "stream",
     "text": [
      "enter your number a :  3\n",
      "enter your number b :  4\n",
      "enter your number c :  5\n"
     ]
    },
    {
     "name": "stdout",
     "output_type": "stream",
     "text": [
      "right angle\n"
     ]
    }
   ],
   "source": [
    "a = int(input('enter your number a : '))\n",
    "b = int(input('enter your number b : '))\n",
    "c = int(input('enter your number c : '))\n",
    "\n",
    "if (c**2 == (b**2)+(a**2)):\n",
    "    print('right angle')\n",
    "elif a == b:\n",
    "    print('isosceles')\n",
    "else:\n",
    "    print('scalene')"
   ]
  },
  {
   "cell_type": "markdown",
   "metadata": {},
   "source": [
    "### 10) WAP to find the second largest number among three user input numbers."
   ]
  },
  {
   "cell_type": "code",
   "execution_count": 75,
   "metadata": {},
   "outputs": [
    {
     "name": "stdin",
     "output_type": "stream",
     "text": [
      "enter your number 1 :  4\n",
      "enter your number 2 :  5\n",
      "enter your number 3 :  6\n"
     ]
    },
    {
     "name": "stdout",
     "output_type": "stream",
     "text": [
      "5 is second largest\n"
     ]
    }
   ],
   "source": [
    "num1 = int(input('enter your number 1 : '))\n",
    "num2 = int(input('enter your number 2 : '))\n",
    "num3 = int(input('enter your number 3 : '))\n",
    "\n",
    "if num1 > num2:\n",
    "    max1 = num1\n",
    "else: max1 = num2\n",
    "if num2 > num3:\n",
    "    max2 = num2\n",
    "else : max2 = num3\n",
    "if max1 > max2:\n",
    "    print(f'{max2} is second largest')\n",
    "else: print(f'{max1} is second largest')    "
   ]
  },
  {
   "cell_type": "markdown",
   "metadata": {},
   "source": [
    "### 11) WAP to calculate electricity bill based on following criteria. Which takes the unit from the user.\n",
    "a. First 1 to 50 units – Rs. 2.60/unit</br>\n",
    "b. Next 50 to 100 units – Rs. 3.25/unit</br>\n",
    "c. Next 100 to 200 units – Rs. 5.26/unit</br>\n",
    "d. above 200 units – Rs. 8.45/unit"
   ]
  },
  {
   "cell_type": "code",
   "execution_count": 83,
   "metadata": {},
   "outputs": [
    {
     "name": "stdin",
     "output_type": "stream",
     "text": [
      "enter your unit : 150\n"
     ]
    },
    {
     "name": "stdout",
     "output_type": "stream",
     "text": [
      "555.5\n"
     ]
    }
   ],
   "source": [
    "unit = int(input('enter your unit :'))\n",
    "cost = 0\n",
    "if unit <= 50:\n",
    "    print(unit*2.6)\n",
    "if unit < 100:\n",
    "    cost = 50*2.6 + ((unit-50)*3.25)\n",
    "    print(cost)\n",
    "if unit < 200:\n",
    "    cost = 50*2.6 + (50*3.25) + ((unit-100)*5.26)\n",
    "    print(cost)\n",
    "else : \n",
    "    cost = 50*2.6 + (50*3.25) + (100*5.26) + ((unit-200)*8.45)\n",
    "    print(cost)\n",
    "\n",
    "    "
   ]
  },
  {
   "cell_type": "code",
   "execution_count": null,
   "metadata": {},
   "outputs": [],
   "source": []
  }
 ],
 "metadata": {
  "kernelspec": {
   "display_name": "Python 3 (ipykernel)",
   "language": "python",
   "name": "python3"
  },
  "language_info": {
   "codemirror_mode": {
    "name": "ipython",
    "version": 3
   },
   "file_extension": ".py",
   "mimetype": "text/x-python",
   "name": "python",
   "nbconvert_exporter": "python",
   "pygments_lexer": "ipython3",
   "version": "3.12.7"
  }
 },
 "nbformat": 4,
 "nbformat_minor": 4
}
